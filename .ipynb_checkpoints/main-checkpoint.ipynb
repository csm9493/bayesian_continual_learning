{
 "cells": [
  {
   "cell_type": "code",
   "execution_count": null,
   "metadata": {},
   "outputs": [],
   "source": [
    "from PIL import Image\n",
    "from torch.utils.data.dataset import Dataset\n",
    "from scipy.misc import imread\n",
    "import numpy as np\n",
    "import torch\n",
    "import torch.optim as optim\n",
    "\n",
    "\n",
    "import torchvision\n",
    "from torchvision import datasets, transforms\n",
    "from torch.utils.data import DataLoader"
   ]
  },
  {
   "cell_type": "code",
   "execution_count": null,
   "metadata": {},
   "outputs": [],
   "source": [
    "train_loader = torch.utils.data.DataLoader(\n",
    "        datasets.MNIST('mnist-data/', train=True, download=True,\n",
    "                       transform=transforms.Compose([transforms.ToTensor(),])),\n",
    "        batch_size=128, shuffle=True)\n",
    "\n",
    "test_loader = torch.utils.data.DataLoader(\n",
    "        datasets.MNIST('mnist-data/', train=False, transform=transforms.Compose([transforms.ToTensor(),])\n",
    "                       ),\n",
    "        batch_size=128, shuffle=True)"
   ]
  },
  {
   "cell_type": "code",
   "execution_count": null,
   "metadata": {},
   "outputs": [],
   "source": [
    "from core import networks"
   ]
  },
  {
   "cell_type": "code",
   "execution_count": null,
   "metadata": {},
   "outputs": [],
   "source": [
    "DEVICE = torch.device(\"cuda\" if torch.cuda.is_available() else \"cpu\")\n",
    "net = networks.BayesianNetwork().to(DEVICE)"
   ]
  },
  {
   "cell_type": "code",
   "execution_count": null,
   "metadata": {},
   "outputs": [],
   "source": [
    "def li_regularizer(net1, net2, loss):\n",
    "    mean_reg = 0\n",
    "    sigma_reg = 0\n",
    "    \n",
    "    #net1, net2에서 각 레이어에 있는 mean, sigma를 이용하여 regularization 구현\n",
    "\n",
    "#         for m in net2.modules():\n",
    "#             if isinstance(m,nn.Linear):\n",
    "#                 temp_loss = torch.sum(((torch.sum(((m.weight.data)**2),1))**0.5),0)\n",
    "#                 li_reg_loss += 0.1temp_loss\n",
    "#                 loss = loss + Variable(0.01li_reg_loss, requires_grad= True)\n",
    "\n",
    "    return loss + mean_reg + sigma_reg"
   ]
  },
  {
   "cell_type": "code",
   "execution_count": null,
   "metadata": {},
   "outputs": [],
   "source": [
    "def train(net, optimizer, epoch):\n",
    "    net.train()\n",
    "    if epoch == 0: # write initial distributions\n",
    "        pass\n",
    "#         write_weight_histograms(epoch)\n",
    "    for batch_idx, (data, target) in enumerate(train_loader):\n",
    "        print (data.shape)\n",
    "        print (target.shape)\n",
    "        data, target = data.to(DEVICE), target.to(DEVICE)\n",
    "        net.zero_grad()\n",
    "        #         loss = net.sample_elbo(data, target)\n",
    "        #         loss = li_regularizer(net1, net2,loss)\n",
    "#         loss.backward()\n",
    "        optimizer.step()\n",
    "#         write_loss_scalars(epoch, batch_idx, loss, log_prior, log_variational_posterior, negative_log_likelihood)\n",
    "#     write_weight_histograms(epoch+1)\n"
   ]
  },
  {
   "cell_type": "code",
   "execution_count": null,
   "metadata": {},
   "outputs": [],
   "source": [
    "#net1, net2 선언하고, \n",
    "#net1 init = zero\n",
    "#net2 init = random\n",
    "\n",
    "#\n",
    "#0. net2 variance init\n",
    "#1. net2를 training 하는데 (1 batch = 1000iteration), regularization을 위해서 net1의 정보 이용\n",
    "#2. 1 batch가 끝나면\n",
    "#3. net1에 net2복사 (weight = mean, sigma)\n",
    "#\n",
    "\n",
    "optimizer = optim.Adam(net.parameters())\n",
    "for epoch in range(10):\n",
    "    train(net, optimizer, epoch)"
   ]
  },
  {
   "cell_type": "code",
   "execution_count": null,
   "metadata": {},
   "outputs": [],
   "source": []
  }
 ],
 "metadata": {
  "kernelspec": {
   "display_name": "Python 3",
   "language": "python",
   "name": "python3"
  },
  "language_info": {
   "codemirror_mode": {
    "name": "ipython",
    "version": 3
   },
   "file_extension": ".py",
   "mimetype": "text/x-python",
   "name": "python",
   "nbconvert_exporter": "python",
   "pygments_lexer": "ipython3",
   "version": "3.6.7"
  }
 },
 "nbformat": 4,
 "nbformat_minor": 2
}
